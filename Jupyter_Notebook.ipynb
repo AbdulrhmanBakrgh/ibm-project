{
 "cells": [
  {
   "cell_type": "markdown",
   "metadata": {},
   "source": [
    "# Title (Exercise 2)\n",
    "# Data Science Fundamentals\n",
    "\n",
    "# Introduction (Exercise 3)\n",
    "This notebook is an introduction to Data Science concepts, including programming languages, libraries, and tools. We'll also explore basic arithmetic operations and conversions.\n",
    "\n",
    "# Data Science Languages (Exercise 4)\n",
    "Here are some popular data science programming languages:\n",
    "\n",
    "- Python\n",
    "- R\n",
    "- Julia\n",
    "- Scala\n",
    "- Java\n",
    "\n",
    "# Data Science Libraries (Exercise 5)\n",
    "Some valuable data science libraries include:\n",
    "\n",
    "- NumPy (Python): Numerical computing\n",
    "- Pandas (Python): Data manipulation and analysis\n",
    "- Matplotlib (Python): Data visualization\n",
    "- ggplot2 (R): Data visualization\n",
    "- scikit-learn (Python): Machine learning\n",
    "\n",
    "# Data Science Tools (Exercise 6)\n",
    "\n",
    "| Tool | Description |\n",
    "|---|---|\n",
    "| Jupyter Notebook | Interactive environment for code, data, and visualization |\n",
    "| RStudio | Integrated Development Environment (IDE) for R |\n",
    "| TensorFlow | Open-source machine learning framework |\n",
    "| PyTorch | Open-source machine learning library |\n",
    "| Git | Version control system for code |\n",
    "\n",
    "# Arithmetic Expressions (Exercise 7)\n",
    "Let's explore some basic arithmetic expressions!\n",
    "\n",
    "# Multiplication and Addition (Exercise 8)"
   ]
  },
  {
   "cell_type": "markdown",
   "metadata": {},
   "source": [
    "#### Add your code below following the instructions given in the course\n"
   ]
  },
  {
   "cell_type": "code",
   "execution_count": 3,
   "metadata": {
    "tags": []
   },
   "outputs": [
    {
     "name": "stdout",
     "output_type": "stream",
     "text": [
      "Multiplication result: 15\n",
      "Addition result: 12\n"
     ]
    }
   ],
   "source": [
    "# Multiply two numbers\n",
    "result_mul = 5 * 3\n",
    "\n",
    "# Add two numbers\n",
    "result_add = 10 + 2\n",
    "\n",
    "# Print the results\n",
    "print(\"Multiplication result:\", result_mul)\n",
    "print(\"Addition result:\", result_add)\n"
   ]
  },
  {
   "cell_type": "code",
   "execution_count": 4,
   "metadata": {
    "tags": []
   },
   "outputs": [
    {
     "name": "stdout",
     "output_type": "stream",
     "text": [
      "60 minutes is equal to 1.00 hours\n"
     ]
    }
   ],
   "source": [
    "# Minutes to Hours (Exercise 9)\n",
    "# Define minutes\n",
    "minutes = 60\n",
    "\n",
    "# Convert minutes to hours\n",
    "hours = minutes / 60\n",
    "\n",
    "# Print the result\n",
    "print(f\"{minutes} minutes is equal to {hours:.2f} hours\")\n",
    "\n"
   ]
  },
  {
   "cell_type": "code",
   "execution_count": null,
   "metadata": {},
   "outputs": [],
   "source": []
  },
  {
   "cell_type": "code",
   "execution_count": null,
   "metadata": {},
   "outputs": [],
   "source": []
  }
 ],
 "metadata": {
  "kernelspec": {
   "display_name": "Python",
   "language": "python",
   "name": "conda-env-python-py"
  },
  "language_info": {
   "codemirror_mode": {
    "name": "ipython",
    "version": 3
   },
   "file_extension": ".py",
   "mimetype": "text/x-python",
   "name": "python",
   "nbconvert_exporter": "python",
   "pygments_lexer": "ipython3",
   "version": "3.7.12"
  }
 },
 "nbformat": 4,
 "nbformat_minor": 4
}
